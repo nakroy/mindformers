{
 "cells": [
  {
   "cell_type": "code",
   "execution_count": 1,
   "id": "5976f199-3b1d-4533-a8af-523da5d075d2",
   "metadata": {},
   "outputs": [
    {
     "name": "stderr",
     "output_type": "stream",
     "text": [
      "/home/aiuser/anaconda3/envs/hf_download/lib/python3.9/site-packages/tqdm/auto.py:21: TqdmWarning: IProgress not found. Please update jupyter and ipywidgets. See https://ipywidgets.readthedocs.io/en/stable/user_install.html\n",
      "  from .autonotebook import tqdm as notebook_tqdm\n"
     ]
    }
   ],
   "source": [
    "import requests\n",
    "import gradio as gr\n",
    "import json"
   ]
  },
  {
   "cell_type": "code",
   "execution_count": 2,
   "id": "3fe77bef-8d2d-4c03-864b-b17bab660435",
   "metadata": {},
   "outputs": [],
   "source": [
    "# constant define\n",
    "HOST = '0.0.0.0'\n",
    "PORT = 17860\n",
    "URL = f'http://{HOST}:{PORT}'\n",
    "\n",
    "html_content = \"\"\"\n",
    "<h1 align=\"center\">欢迎使用test_demo</h1>\n",
    "<h2 align=\"center\">作者：LSD</h2>\n",
    "<p>这是一个嵌入在Gradio界面的test demo</p>\n",
    "\"\"\"\n",
    "\n",
    "def greet(name):\n",
    "    return f\"Hello, {name}!\""
   ]
  },
  {
   "cell_type": "code",
   "execution_count": 3,
   "id": "653d66b1-bed4-4c58-a5c9-f7259a9c4600",
   "metadata": {},
   "outputs": [],
   "source": [
    "with gr.Blocks() as demo:\n",
    "    gr.HTML(html_content)\n",
    "    with gr.Row():\n",
    "        with gr.Column(scale=10):\n",
    "            with gr.Row():\n",
    "                name_input = gr.Textbox(label=\"Enter your name\", show_label=True,\n",
    "                                        placeholder=\"输入你的名字......\", lines=3)\n",
    "                name_output = gr.Textbox(label=\"Greeting\", lines=3)\n",
    "            with gr.Row():\n",
    "                with gr.Column(scale=5):\n",
    "                    submit_btn = gr.Button(\"Submit\", variant=\"primary\")\n",
    "                    submit_btn.click(fn=greet, inputs=name_input, outputs=name_output)\n",
    "                with gr.Column(scale=5):\n",
    "                    clear_btn = gr.Button(\"Clear input\", variant=\"primary\")\n",
    "        with gr.Column(scale=5):\n",
    "            with gr.Row():\n",
    "                confirm_checkbox = gr.Checkbox(value=False, label=\"confirm info\", info=\"Confirm your information or not\")        "
   ]
  },
  {
   "cell_type": "code",
   "execution_count": 4,
   "id": "f9420e5e-555e-4391-a304-b1c1e7405477",
   "metadata": {},
   "outputs": [
    {
     "name": "stdout",
     "output_type": "stream",
     "text": [
      "Running on local URL:  http://0.0.0.0:17860\n",
      "\n",
      "To create a public link, set `share=True` in `launch()`.\n"
     ]
    },
    {
     "data": {
      "text/html": [
       "<div><iframe src=\"http://localhost:17860/\" width=\"100%\" height=\"500\" allow=\"autoplay; camera; microphone; clipboard-read; clipboard-write;\" frameborder=\"0\" allowfullscreen></iframe></div>"
      ],
      "text/plain": [
       "<IPython.core.display.HTML object>"
      ]
     },
     "metadata": {},
     "output_type": "display_data"
    },
    {
     "data": {
      "text/plain": []
     },
     "execution_count": 4,
     "metadata": {},
     "output_type": "execute_result"
    }
   ],
   "source": [
    "demo.queue().launch(server_name=HOST, server_port=PORT)"
   ]
  }
 ],
 "metadata": {
  "kernelspec": {
   "display_name": "Python [conda env:hf_download]",
   "language": "python",
   "name": "conda-env-hf_download-py"
  },
  "language_info": {
   "codemirror_mode": {
    "name": "ipython",
    "version": 3
   },
   "file_extension": ".py",
   "mimetype": "text/x-python",
   "name": "python",
   "nbconvert_exporter": "python",
   "pygments_lexer": "ipython3",
   "version": "3.9.19"
  }
 },
 "nbformat": 4,
 "nbformat_minor": 5
}
